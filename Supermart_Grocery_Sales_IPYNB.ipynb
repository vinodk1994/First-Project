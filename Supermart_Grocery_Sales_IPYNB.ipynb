{
  "cells": [
    {
      "cell_type": "markdown",
      "metadata": {
        "id": "view-in-github",
        "colab_type": "text"
      },
      "source": [
        "<a href=\"https://colab.research.google.com/github/vinodk1994/First-Project/blob/main/Supermart_Grocery_Sales_IPYNB.ipynb\" target=\"_parent\"><img src=\"https://colab.research.google.com/assets/colab-badge.svg\" alt=\"Open In Colab\"/></a>"
      ]
    },
    {
      "cell_type": "code",
      "execution_count": 1,
      "id": "5c71f311",
      "metadata": {
        "id": "5c71f311"
      },
      "outputs": [],
      "source": [
        "# import python libraries\n",
        "\n",
        "import numpy as np\n",
        "import pandas as pd\n",
        "import matplotlib.pyplot as plt # visualizing data\n",
        "%matplotlib inline\n",
        "import seaborn as sns"
      ]
    },
    {
      "cell_type": "code",
      "execution_count": null,
      "id": "ecf845fa",
      "metadata": {
        "id": "ecf845fa"
      },
      "outputs": [],
      "source": [
        "# import csv file\n",
        "df = pd.read_csv('D:\\Python Project Data set\\Supermart Grocery Sales - Retail Analytics Dataset (1).csv', encoding= 'unicode_escape')\n",
        "# to avoid encoding error use 'unicode escape'"
      ]
    },
    {
      "cell_type": "markdown",
      "id": "1898dc8e",
      "metadata": {
        "id": "1898dc8e"
      },
      "source": [
        "## Exploratory Data Analysis"
      ]
    },
    {
      "cell_type": "code",
      "execution_count": null,
      "id": "02cd4d0e",
      "metadata": {
        "id": "02cd4d0e",
        "outputId": "269bf42c-dd2f-4b31-f7fe-f4fbb87945fc"
      },
      "outputs": [
        {
          "data": {
            "text/plain": [
              "(9994, 11)"
            ]
          },
          "execution_count": 4,
          "metadata": {},
          "output_type": "execute_result"
        }
      ],
      "source": [
        "# to check how many column or row present in dataset\n",
        "df.shape"
      ]
    },
    {
      "cell_type": "code",
      "execution_count": null,
      "id": "594cac42",
      "metadata": {
        "id": "594cac42",
        "outputId": "ac108a57-a6f9-4b19-8ac2-b75df74678f2"
      },
      "outputs": [
        {
          "data": {
            "text/html": [
              "<div>\n",
              "<style scoped>\n",
              "    .dataframe tbody tr th:only-of-type {\n",
              "        vertical-align: middle;\n",
              "    }\n",
              "\n",
              "    .dataframe tbody tr th {\n",
              "        vertical-align: top;\n",
              "    }\n",
              "\n",
              "    .dataframe thead th {\n",
              "        text-align: right;\n",
              "    }\n",
              "</style>\n",
              "<table border=\"1\" class=\"dataframe\">\n",
              "  <thead>\n",
              "    <tr style=\"text-align: right;\">\n",
              "      <th></th>\n",
              "      <th>ï»¿Order ID</th>\n",
              "      <th>Customer Name</th>\n",
              "      <th>Category</th>\n",
              "      <th>Sub Category</th>\n",
              "      <th>City</th>\n",
              "      <th>Order Date</th>\n",
              "      <th>Region</th>\n",
              "      <th>Sales</th>\n",
              "      <th>Discount</th>\n",
              "      <th>Profit</th>\n",
              "      <th>State</th>\n",
              "    </tr>\n",
              "  </thead>\n",
              "  <tbody>\n",
              "    <tr>\n",
              "      <th>0</th>\n",
              "      <td>OD1</td>\n",
              "      <td>Harish</td>\n",
              "      <td>Oil &amp; Masala</td>\n",
              "      <td>Masalas</td>\n",
              "      <td>Vellore</td>\n",
              "      <td>11-08-2017</td>\n",
              "      <td>North</td>\n",
              "      <td>1254</td>\n",
              "      <td>0.12</td>\n",
              "      <td>401.28</td>\n",
              "      <td>Tamil Nadu</td>\n",
              "    </tr>\n",
              "    <tr>\n",
              "      <th>1</th>\n",
              "      <td>OD2</td>\n",
              "      <td>Sudha</td>\n",
              "      <td>Beverages</td>\n",
              "      <td>Health Drinks</td>\n",
              "      <td>Krishnagiri</td>\n",
              "      <td>11-08-2017</td>\n",
              "      <td>South</td>\n",
              "      <td>749</td>\n",
              "      <td>0.18</td>\n",
              "      <td>149.80</td>\n",
              "      <td>Tamil Nadu</td>\n",
              "    </tr>\n",
              "    <tr>\n",
              "      <th>2</th>\n",
              "      <td>OD3</td>\n",
              "      <td>Hussain</td>\n",
              "      <td>Food Grains</td>\n",
              "      <td>Atta &amp; Flour</td>\n",
              "      <td>Perambalur</td>\n",
              "      <td>06-12-2017</td>\n",
              "      <td>West</td>\n",
              "      <td>2360</td>\n",
              "      <td>0.21</td>\n",
              "      <td>165.20</td>\n",
              "      <td>Tamil Nadu</td>\n",
              "    </tr>\n",
              "    <tr>\n",
              "      <th>3</th>\n",
              "      <td>OD4</td>\n",
              "      <td>Jackson</td>\n",
              "      <td>Fruits &amp; Veggies</td>\n",
              "      <td>Fresh Vegetables</td>\n",
              "      <td>Dharmapuri</td>\n",
              "      <td>10-11-2016</td>\n",
              "      <td>South</td>\n",
              "      <td>896</td>\n",
              "      <td>0.25</td>\n",
              "      <td>89.60</td>\n",
              "      <td>Tamil Nadu</td>\n",
              "    </tr>\n",
              "    <tr>\n",
              "      <th>4</th>\n",
              "      <td>OD5</td>\n",
              "      <td>Ridhesh</td>\n",
              "      <td>Food Grains</td>\n",
              "      <td>Organic Staples</td>\n",
              "      <td>Ooty</td>\n",
              "      <td>10-11-2016</td>\n",
              "      <td>South</td>\n",
              "      <td>2355</td>\n",
              "      <td>0.26</td>\n",
              "      <td>918.45</td>\n",
              "      <td>Tamil Nadu</td>\n",
              "    </tr>\n",
              "  </tbody>\n",
              "</table>\n",
              "</div>"
            ],
            "text/plain": [
              "  ï»¿Order ID Customer Name          Category      Sub Category         City  \\\n",
              "0         OD1        Harish      Oil & Masala           Masalas      Vellore   \n",
              "1         OD2         Sudha         Beverages     Health Drinks  Krishnagiri   \n",
              "2         OD3       Hussain       Food Grains      Atta & Flour   Perambalur   \n",
              "3         OD4       Jackson  Fruits & Veggies  Fresh Vegetables   Dharmapuri   \n",
              "4         OD5       Ridhesh       Food Grains   Organic Staples         Ooty   \n",
              "\n",
              "   Order Date Region  Sales  Discount  Profit       State  \n",
              "0  11-08-2017  North   1254      0.12  401.28  Tamil Nadu  \n",
              "1  11-08-2017  South    749      0.18  149.80  Tamil Nadu  \n",
              "2  06-12-2017   West   2360      0.21  165.20  Tamil Nadu  \n",
              "3  10-11-2016  South    896      0.25   89.60  Tamil Nadu  \n",
              "4  10-11-2016  South   2355      0.26  918.45  Tamil Nadu  "
            ]
          },
          "execution_count": 5,
          "metadata": {},
          "output_type": "execute_result"
        }
      ],
      "source": [
        "# to check the dataset\n",
        "df.head(5)"
      ]
    },
    {
      "cell_type": "code",
      "execution_count": null,
      "id": "25603308",
      "metadata": {
        "id": "25603308",
        "outputId": "194519ba-ae24-4266-88d6-2d3b52b0bd80"
      },
      "outputs": [
        {
          "name": "stdout",
          "output_type": "stream",
          "text": [
            "<class 'pandas.core.frame.DataFrame'>\n",
            "RangeIndex: 9994 entries, 0 to 9993\n",
            "Data columns (total 11 columns):\n",
            " #   Column         Non-Null Count  Dtype  \n",
            "---  ------         --------------  -----  \n",
            " 0   ï»¿Order ID    9994 non-null   object \n",
            " 1   Customer Name  9994 non-null   object \n",
            " 2   Category       9994 non-null   object \n",
            " 3   Sub Category   9994 non-null   object \n",
            " 4   City           9994 non-null   object \n",
            " 5   Order Date     9994 non-null   object \n",
            " 6   Region         9994 non-null   object \n",
            " 7   Sales          9994 non-null   int64  \n",
            " 8   Discount       9994 non-null   float64\n",
            " 9   Profit         9994 non-null   float64\n",
            " 10  State          9994 non-null   object \n",
            "dtypes: float64(2), int64(1), object(8)\n",
            "memory usage: 859.0+ KB\n"
          ]
        }
      ],
      "source": [
        "df.info()"
      ]
    },
    {
      "cell_type": "code",
      "execution_count": null,
      "id": "e4753eaa",
      "metadata": {
        "id": "e4753eaa",
        "outputId": "9ce4980e-2247-4caf-8e6f-2b28124a66b9"
      },
      "outputs": [
        {
          "data": {
            "text/plain": [
              "ï»¿Order ID      0\n",
              "Customer Name    0\n",
              "Category         0\n",
              "Sub Category     0\n",
              "City             0\n",
              "Order Date       0\n",
              "Region           0\n",
              "Sales            0\n",
              "Discount         0\n",
              "Profit           0\n",
              "State            0\n",
              "dtype: int64"
            ]
          },
          "execution_count": 7,
          "metadata": {},
          "output_type": "execute_result"
        }
      ],
      "source": [
        "#check for null values\n",
        "pd.isnull(df).sum()"
      ]
    },
    {
      "cell_type": "code",
      "execution_count": null,
      "id": "3c19e2cc",
      "metadata": {
        "id": "3c19e2cc"
      },
      "outputs": [],
      "source": [
        "#drop unrelated/blank columns\n",
        "df.dropna(inplace=True)"
      ]
    },
    {
      "cell_type": "code",
      "execution_count": null,
      "id": "858a0590",
      "metadata": {
        "id": "858a0590"
      },
      "outputs": [],
      "source": [
        "# Rename column 'old_column_name' to 'new_column_name'\n",
        "df = df.rename(columns={'ï»¿Order ID': 'Order ID'})"
      ]
    },
    {
      "cell_type": "code",
      "execution_count": null,
      "id": "ce10b78f",
      "metadata": {
        "id": "ce10b78f",
        "outputId": "53bf4ea8-9c4e-47ef-a8ec-78b2a12ab2ec"
      },
      "outputs": [
        {
          "data": {
            "text/plain": [
              "Index(['Order ID', 'Customer Name', 'Category', 'Sub Category', 'City',\n",
              "       'Order Date', 'Region', 'Sales', 'Discount', 'Profit', 'State'],\n",
              "      dtype='object')"
            ]
          },
          "execution_count": 10,
          "metadata": {},
          "output_type": "execute_result"
        }
      ],
      "source": [
        "## Displaying Column Names\n",
        "df.columns"
      ]
    },
    {
      "cell_type": "code",
      "execution_count": null,
      "id": "1067ee92",
      "metadata": {
        "id": "1067ee92",
        "outputId": "6017cba0-1973-4784-91fc-11aff13ed9b5"
      },
      "outputs": [
        {
          "data": {
            "text/html": [
              "<div>\n",
              "<style scoped>\n",
              "    .dataframe tbody tr th:only-of-type {\n",
              "        vertical-align: middle;\n",
              "    }\n",
              "\n",
              "    .dataframe tbody tr th {\n",
              "        vertical-align: top;\n",
              "    }\n",
              "\n",
              "    .dataframe thead th {\n",
              "        text-align: right;\n",
              "    }\n",
              "</style>\n",
              "<table border=\"1\" class=\"dataframe\">\n",
              "  <thead>\n",
              "    <tr style=\"text-align: right;\">\n",
              "      <th></th>\n",
              "      <th>count</th>\n",
              "      <th>mean</th>\n",
              "      <th>std</th>\n",
              "      <th>min</th>\n",
              "      <th>25%</th>\n",
              "      <th>50%</th>\n",
              "      <th>75%</th>\n",
              "      <th>max</th>\n",
              "    </tr>\n",
              "  </thead>\n",
              "  <tbody>\n",
              "    <tr>\n",
              "      <th>Sales</th>\n",
              "      <td>9994.0</td>\n",
              "      <td>1496.596158</td>\n",
              "      <td>577.559036</td>\n",
              "      <td>500.00</td>\n",
              "      <td>1000.0000</td>\n",
              "      <td>1498.00</td>\n",
              "      <td>1994.7500</td>\n",
              "      <td>2500.00</td>\n",
              "    </tr>\n",
              "    <tr>\n",
              "      <th>Discount</th>\n",
              "      <td>9994.0</td>\n",
              "      <td>0.226817</td>\n",
              "      <td>0.074636</td>\n",
              "      <td>0.10</td>\n",
              "      <td>0.1600</td>\n",
              "      <td>0.23</td>\n",
              "      <td>0.2900</td>\n",
              "      <td>0.35</td>\n",
              "    </tr>\n",
              "    <tr>\n",
              "      <th>Profit</th>\n",
              "      <td>9994.0</td>\n",
              "      <td>374.937082</td>\n",
              "      <td>239.932881</td>\n",
              "      <td>25.25</td>\n",
              "      <td>180.0225</td>\n",
              "      <td>320.78</td>\n",
              "      <td>525.6275</td>\n",
              "      <td>1120.95</td>\n",
              "    </tr>\n",
              "  </tbody>\n",
              "</table>\n",
              "</div>"
            ],
            "text/plain": [
              "           count         mean         std     min        25%      50%  \\\n",
              "Sales     9994.0  1496.596158  577.559036  500.00  1000.0000  1498.00   \n",
              "Discount  9994.0     0.226817    0.074636    0.10     0.1600     0.23   \n",
              "Profit    9994.0   374.937082  239.932881   25.25   180.0225   320.78   \n",
              "\n",
              "                75%      max  \n",
              "Sales     1994.7500  2500.00  \n",
              "Discount     0.2900     0.35  \n",
              "Profit     525.6275  1120.95  "
            ]
          },
          "execution_count": 11,
          "metadata": {},
          "output_type": "execute_result"
        }
      ],
      "source": [
        "# describe() method returns description of the data in the DataFrame (i.e. count, mean, std, etc)\n",
        "df.describe().T"
      ]
    },
    {
      "cell_type": "markdown",
      "id": "decb0afd",
      "metadata": {
        "id": "decb0afd"
      },
      "source": [
        "#### Feature Engineering"
      ]
    },
    {
      "cell_type": "code",
      "execution_count": null,
      "id": "0d3add95",
      "metadata": {
        "id": "0d3add95",
        "outputId": "ba42151d-a087-44be-ed4a-6fe3a5102fcf"
      },
      "outputs": [
        {
          "name": "stdout",
          "output_type": "stream",
          "text": [
            "     Order ID Customer Name           Category      Sub Category         City  \\\n",
            "0         OD1        Harish       Oil & Masala           Masalas      Vellore   \n",
            "1         OD2         Sudha          Beverages     Health Drinks  Krishnagiri   \n",
            "2         OD3       Hussain        Food Grains      Atta & Flour   Perambalur   \n",
            "3         OD4       Jackson   Fruits & Veggies  Fresh Vegetables   Dharmapuri   \n",
            "4         OD5       Ridhesh        Food Grains   Organic Staples         Ooty   \n",
            "...       ...           ...                ...               ...          ...   \n",
            "9989   OD9990        Sudeep  Eggs, Meat & Fish              Eggs      Madurai   \n",
            "9990   OD9991          Alan             Bakery          Biscuits  Kanyakumari   \n",
            "9991   OD9992          Ravi        Food Grains              Rice         Bodi   \n",
            "9992   OD9993          Peer       Oil & Masala            Spices   Pudukottai   \n",
            "9993   OD9994        Ganesh        Food Grains      Atta & Flour  Tirunelveli   \n",
            "\n",
            "     Order Date Region  Sales  Discount  Profit       State  \n",
            "0    2017-11-08  North   1254      0.12  401.28  Tamil Nadu  \n",
            "1    2017-11-08  South    749      0.18  149.80  Tamil Nadu  \n",
            "2    2017-06-12   West   2360      0.21  165.20  Tamil Nadu  \n",
            "3    2016-10-11  South    896      0.25   89.60  Tamil Nadu  \n",
            "4    2016-10-11  South   2355      0.26  918.45  Tamil Nadu  \n",
            "...         ...    ...    ...       ...     ...         ...  \n",
            "9989 2015-12-24   West    945      0.16  359.10  Tamil Nadu  \n",
            "9990 2015-07-12   West   1195      0.26   71.70  Tamil Nadu  \n",
            "9991 2017-06-06   West   1567      0.16  501.44  Tamil Nadu  \n",
            "9992 2018-10-16   West   1659      0.15  597.24  Tamil Nadu  \n",
            "9993 2018-04-17   West   1034      0.28  165.44  Tamil Nadu  \n",
            "\n",
            "[9994 rows x 11 columns]\n"
          ]
        }
      ],
      "source": [
        "## Convert 'Date' into Date-time Type\n",
        "df['Order Date'] = pd.to_datetime(df['Order Date'])\n",
        "print(df)"
      ]
    },
    {
      "cell_type": "code",
      "execution_count": null,
      "id": "6ab9d025",
      "metadata": {
        "id": "6ab9d025",
        "outputId": "dc56cdf3-acda-47bb-df01-ed7eaaf700b5"
      },
      "outputs": [
        {
          "name": "stdout",
          "output_type": "stream",
          "text": [
            "     Order ID Customer Name           Category      Sub Category         City  \\\n",
            "0         OD1        Harish       Oil & Masala           Masalas      Vellore   \n",
            "1         OD2         Sudha          Beverages     Health Drinks  Krishnagiri   \n",
            "2         OD3       Hussain        Food Grains      Atta & Flour   Perambalur   \n",
            "3         OD4       Jackson   Fruits & Veggies  Fresh Vegetables   Dharmapuri   \n",
            "4         OD5       Ridhesh        Food Grains   Organic Staples         Ooty   \n",
            "...       ...           ...                ...               ...          ...   \n",
            "9989   OD9990        Sudeep  Eggs, Meat & Fish              Eggs      Madurai   \n",
            "9990   OD9991          Alan             Bakery          Biscuits  Kanyakumari   \n",
            "9991   OD9992          Ravi        Food Grains              Rice         Bodi   \n",
            "9992   OD9993          Peer       Oil & Masala            Spices   Pudukottai   \n",
            "9993   OD9994        Ganesh        Food Grains      Atta & Flour  Tirunelveli   \n",
            "\n",
            "     Order Date Region  Sales  Discount  Profit       State  Year  Month  \n",
            "0    2017-11-08  North   1254      0.12  401.28  Tamil Nadu  2017     11  \n",
            "1    2017-11-08  South    749      0.18  149.80  Tamil Nadu  2017     11  \n",
            "2    2017-06-12   West   2360      0.21  165.20  Tamil Nadu  2017      6  \n",
            "3    2016-10-11  South    896      0.25   89.60  Tamil Nadu  2016     10  \n",
            "4    2016-10-11  South   2355      0.26  918.45  Tamil Nadu  2016     10  \n",
            "...         ...    ...    ...       ...     ...         ...   ...    ...  \n",
            "9989 2015-12-24   West    945      0.16  359.10  Tamil Nadu  2015     12  \n",
            "9990 2015-07-12   West   1195      0.26   71.70  Tamil Nadu  2015      7  \n",
            "9991 2017-06-06   West   1567      0.16  501.44  Tamil Nadu  2017      6  \n",
            "9992 2018-10-16   West   1659      0.15  597.24  Tamil Nadu  2018     10  \n",
            "9993 2018-04-17   West   1034      0.28  165.44  Tamil Nadu  2018      4  \n",
            "\n",
            "[9994 rows x 13 columns]\n"
          ]
        }
      ],
      "source": [
        "# Extract the year and month\n",
        "df['Year'] = df['Order Date'].dt.year\n",
        "df['Month'] = df['Order Date'].dt.month\n",
        "print(df)"
      ]
    },
    {
      "cell_type": "markdown",
      "id": "9bbd59a5",
      "metadata": {
        "id": "9bbd59a5"
      },
      "source": [
        "## Data Analysis"
      ]
    },
    {
      "cell_type": "code",
      "execution_count": null,
      "id": "590d6424",
      "metadata": {
        "id": "590d6424",
        "outputId": "c2d78a51-0107-4063-d983-e6a37eb52803"
      },
      "outputs": [
        {
          "name": "stdout",
          "output_type": "stream",
          "text": [
            "           Sales      Profit\n",
            "Region                      \n",
            "Central  3468156   856806.84\n",
            "East     4248368  1074345.58\n",
            "North       1254      401.28\n",
            "South    2440461   623562.89\n",
            "West     4798743  1192004.61\n"
          ]
        }
      ],
      "source": [
        "## Total Sales and profit by Region\n",
        "Region_sales_profit = df.groupby('Region')[['Sales','Profit']].sum()\n",
        "print(Region_sales_profit)"
      ]
    },
    {
      "cell_type": "code",
      "execution_count": null,
      "id": "26d18cb9",
      "metadata": {
        "id": "26d18cb9",
        "outputId": "c16aa5c4-7bb9-4394-9470-4b053cf587a7"
      },
      "outputs": [
        {
          "name": "stdout",
          "output_type": "stream",
          "text": [
            "                     Sales     Profit\n",
            "Category                             \n",
            "Bakery             2112281  528521.06\n",
            "Beverages          2085313  525605.76\n",
            "Eggs, Meat & Fish  2267401  567357.22\n",
            "Food Grains        2115272  529162.64\n",
            "Fruits & Veggies   2100727  530400.38\n",
            "Oil & Masala       2038442  497895.29\n",
            "Snacks             2237546  568178.85\n"
          ]
        }
      ],
      "source": [
        "## Total Sales and profit by Category\n",
        "Category_sales_profit = df.groupby('Category')[['Sales','Profit']].sum()\n",
        "print(Category_sales_profit)"
      ]
    },
    {
      "cell_type": "code",
      "execution_count": null,
      "id": "14eca87e",
      "metadata": {
        "id": "14eca87e",
        "outputId": "6cfc2167-861d-4582-8251-3c676e511eeb"
      },
      "outputs": [
        {
          "name": "stdout",
          "output_type": "stream",
          "text": [
            "                      Sales     Profit\n",
            "Sub Category                          \n",
            "Atta & Flour         534649  127861.10\n",
            "Biscuits             684083  169357.62\n",
            "Breads & Buns        742586  190764.98\n",
            "Cakes                685612  168398.46\n",
            "Chicken              520497  124049.89\n",
            "Chocolates           733898  183849.34\n",
            "Cookies              768213  190643.70\n",
            "Dals & Pulses        523371  130232.29\n",
            "Edible Oil & Ghee    668086  168593.58\n",
            "Eggs                 575156  144669.92\n",
            "Fish                 560548  147248.01\n",
            "Fresh Fruits         551212  134668.35\n",
            "Fresh Vegetables     525842  131273.33\n",
            "Health Drinks       1051439  267469.79\n",
            "Masalas              697480  168999.11\n",
            "Mutton               611200  151389.40\n",
            "Noodles              735435  193685.81\n",
            "Organic Fruits       503402  130862.33\n",
            "Organic Staples      558929  144136.89\n",
            "Organic Vegetables   520271  133596.37\n",
            "Rice                 498323  126932.36\n",
            "Soft Drinks         1033874  258135.97\n",
            "Spices               672876  160302.60\n"
          ]
        }
      ],
      "source": [
        "## Total Sales and profit by Sub-Category\n",
        "Sub_Category_sales_profit = df.groupby('Sub Category')[['Sales','Profit']].sum()\n",
        "print(Sub_Category_sales_profit)"
      ]
    },
    {
      "cell_type": "code",
      "execution_count": null,
      "id": "a2e274c0",
      "metadata": {
        "id": "a2e274c0",
        "outputId": "ba88e846-9047-42de-c910-7f7b911ddaa4"
      },
      "outputs": [
        {
          "name": "stdout",
          "output_type": "stream",
          "text": [
            "        Sales      Profit Profit Percentage\n",
            "Year                                       \n",
            "2015  2975599   752529.11            25.29%\n",
            "2016  3131959   797192.99            25.45%\n",
            "2017  3871912   953216.22            24.62%\n",
            "2018  4977512  1244182.88             25.0%\n"
          ]
        }
      ],
      "source": [
        "## Sales Over Time (Year-wise)\n",
        "# Convert 'Order Date' to datetime and extract the year\n",
        "df['Order Date'] = pd.to_datetime(df['Order Date'], format='%d-%m-%Y')\n",
        "df['Year'] = df['Order Date'].dt.year\n",
        "\n",
        "# Group by Year and sum up Sales and Profit\n",
        "year_sales_profit = df.groupby('Year')[['Sales', 'Profit']].sum()\n",
        "\n",
        "# Calculate profit percentage as (Profit / Sales) * 100 and round to two decimal places\n",
        "year_sales_profit['Profit Percentage'] = (year_sales_profit['Profit'] / year_sales_profit['Sales']) * 100\n",
        "year_sales_profit['Profit Percentage'] = year_sales_profit['Profit Percentage'].round(2)\n",
        "\n",
        "# Convert the rounded profit percentage to string format with '%' sign\n",
        "year_sales_profit['Profit Percentage'] = year_sales_profit['Profit Percentage'].astype(str) + '%'\n",
        "\n",
        "print(year_sales_profit)"
      ]
    },
    {
      "cell_type": "markdown",
      "id": "b28dc334",
      "metadata": {
        "id": "b28dc334"
      },
      "source": [
        "## Visualization"
      ]
    },
    {
      "cell_type": "code",
      "execution_count": null,
      "id": "98afda30",
      "metadata": {
        "id": "98afda30",
        "outputId": "89bad5e9-a814-4266-ea65-5bd54f52814f"
      },
      "outputs": [
        {
          "data": {
            "image/png": "[encoded data removed]",
            "text/plain": [
              "<Figure size 504x432 with 1 Axes>"
            ]
          },
          "metadata": {
            "needs_background": "light"
          },
          "output_type": "display_data"
        }
      ],
      "source": [
        "## Sales and Profit by Category (Bar Plot)\n",
        "plt.figure(figsize=(7, 6))\n",
        "sns.barplot(x=Category_sales_profit.index, y='Sales', data=Category_sales_profit.reset_index())\n",
        "plt.title('Total Sales and Profit by Category')\n",
        "plt.xticks(rotation=45)\n",
        "plt.show()"
      ]
    },
    {
      "cell_type": "markdown",
      "id": "d5e9aae1",
      "metadata": {
        "id": "d5e9aae1"
      },
      "source": [
        "#### Total Revenue by Category"
      ]
    },
    {
      "cell_type": "code",
      "execution_count": null,
      "id": "fd708e98",
      "metadata": {
        "id": "fd708e98",
        "outputId": "c993ab56-d5f5-44ba-bf04-7beb65e9f05e"
      },
      "outputs": [
        {
          "data": {
            "image/png": "[encoded data removed]",
            "text/plain": [
              "<Figure size 720x432 with 1 Axes>"
            ]
          },
          "metadata": {
            "needs_background": "light"
          },
          "output_type": "display_data"
        }
      ],
      "source": [
        "# Group by product and calculate total revenue\n",
        "Category_revenue = df.groupby('Category')['Sales'].sum().sort_values(ascending=False)\n",
        "\n",
        "# Create the bar plot\n",
        "plt.figure(figsize=(10, 6))\n",
        "sns.barplot(x=Category_revenue.index, y=Category_revenue.values)\n",
        "plt.title('Total Revenue by Category')\n",
        "plt.xlabel('Category')\n",
        "plt.ylabel('Total Revenue')\n",
        "plt.xticks(rotation=45)  # Rotate product names for better readability\n",
        "plt.show()"
      ]
    },
    {
      "cell_type": "markdown",
      "id": "cdeec3d1",
      "metadata": {
        "id": "cdeec3d1"
      },
      "source": [
        "### Top-Selling Products per Region"
      ]
    },
    {
      "cell_type": "code",
      "execution_count": null,
      "id": "cde1d1e1",
      "metadata": {
        "id": "cde1d1e1",
        "outputId": "d1b52bef-b4a8-4693-9af4-5ac0148aadf4"
      },
      "outputs": [
        {
          "data": {
            "image/png": "[encoded data removed]",
            "text/plain": [
              "<Figure size 720x432 with 1 Axes>"
            ]
          },
          "metadata": {
            "needs_background": "light"
          },
          "output_type": "display_data"
        }
      ],
      "source": [
        "# Group by region and Category, then calculate total revenue\n",
        "region_Category_sales = df.groupby(['Region', 'Category'])['Sales'].sum().reset_index()\n",
        "\n",
        "# Find the top-selling product in each region\n",
        "top_Category_per_region = region_Category_sales.loc[region_Category_sales.groupby('Region')['Sales'].idxmax()]\n",
        "\n",
        "# Create the bar plot for top-selling products per region\n",
        "plt.figure(figsize=(10, 6))\n",
        "sns.barplot(x='Region', y='Sales', hue='Category', data=top_Category_per_region, palette='Set2', dodge=True)\n",
        "plt.title('Top-Selling Categories per Region')\n",
        "plt.xlabel('Region')\n",
        "plt.ylabel('Total Sales')\n",
        "plt.legend(title='Categories', loc='upper right', bbox_to_anchor=(1.05, 1))\n",
        "plt.tight_layout(rect=[0,0,0.8,1])\n",
        "plt.show()"
      ]
    }
  ],
  "metadata": {
    "kernelspec": {
      "display_name": "Python 3 (ipykernel)",
      "language": "python",
      "name": "python3"
    },
    "language_info": {
      "codemirror_mode": {
        "name": "ipython",
        "version": 3
      },
      "file_extension": ".py",
      "mimetype": "text/x-python",
      "name": "python",
      "nbconvert_exporter": "python",
      "pygments_lexer": "ipython3",
      "version": "3.9.12"
    },
    "colab": {
      "provenance": [],
      "include_colab_link": true
    }
  },
  "nbformat": 4,
  "nbformat_minor": 5
}